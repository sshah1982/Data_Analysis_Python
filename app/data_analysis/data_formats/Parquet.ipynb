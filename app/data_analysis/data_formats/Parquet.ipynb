{
 "cells": [
  {
   "cell_type": "code",
   "execution_count": 1,
   "id": "95cab154-e65e-45aa-a364-25690d1dab2f",
   "metadata": {},
   "outputs": [],
   "source": [
    "%run \"..\\\\..\\\\config\\\\AppSettings.py\"\n",
    "\n",
    "import pandas as pd\n",
    "#from app.config.AppSettings import AppSettings"
   ]
  },
  {
   "cell_type": "code",
   "execution_count": 2,
   "id": "466c590c-a9b9-4e18-b2e8-63a2c55e4456",
   "metadata": {},
   "outputs": [],
   "source": [
    "settings = AppSettings()\n",
    "\n",
    "url_list = []\n",
    "url_list.append(settings._common_account)\n",
    "url_list.append(settings._repo_name)\n",
    "url_list.append(settings._branch_name)\n",
    "url_list.append(settings._app_root)\n",
    "url_list.append(settings._data_analysis_folder)\n",
    "url_list.append(settings._raw_files_path)\n",
    "url_list.append(settings._parquet_path)\n",
    "\n",
    "parquet_url = settings._raw_data_url + \"/\".join(url_list)\n",
    "df_parquet = pd.read_parquet(parquet_url)"
   ]
  },
  {
   "cell_type": "code",
   "execution_count": 3,
   "id": "54451b60-5ff1-4814-8411-4d3b0d50518c",
   "metadata": {},
   "outputs": [
    {
     "data": {
      "text/html": [
       "<div>\n",
       "<style scoped>\n",
       "    .dataframe tbody tr th:only-of-type {\n",
       "        vertical-align: middle;\n",
       "    }\n",
       "\n",
       "    .dataframe tbody tr th {\n",
       "        vertical-align: top;\n",
       "    }\n",
       "\n",
       "    .dataframe thead th {\n",
       "        text-align: right;\n",
       "    }\n",
       "</style>\n",
       "<table border=\"1\" class=\"dataframe\">\n",
       "  <thead>\n",
       "    <tr style=\"text-align: right;\">\n",
       "      <th></th>\n",
       "      <th>column0</th>\n",
       "      <th>column1</th>\n",
       "    </tr>\n",
       "  </thead>\n",
       "  <tbody>\n",
       "    <tr>\n",
       "      <th>0</th>\n",
       "      <td>first</td>\n",
       "      <td>last</td>\n",
       "    </tr>\n",
       "    <tr>\n",
       "      <th>1</th>\n",
       "      <td>Jorge</td>\n",
       "      <td>Frank</td>\n",
       "    </tr>\n",
       "    <tr>\n",
       "      <th>2</th>\n",
       "      <td>Hunter</td>\n",
       "      <td>Moreno</td>\n",
       "    </tr>\n",
       "    <tr>\n",
       "      <th>3</th>\n",
       "      <td>Esther</td>\n",
       "      <td>Guzman</td>\n",
       "    </tr>\n",
       "    <tr>\n",
       "      <th>4</th>\n",
       "      <td>Dennis</td>\n",
       "      <td>Stephens</td>\n",
       "    </tr>\n",
       "  </tbody>\n",
       "</table>\n",
       "</div>"
      ],
      "text/plain": [
       "  column0   column1\n",
       "0   first      last\n",
       "1   Jorge     Frank\n",
       "2  Hunter    Moreno\n",
       "3  Esther    Guzman\n",
       "4  Dennis  Stephens"
      ]
     },
     "execution_count": 3,
     "metadata": {},
     "output_type": "execute_result"
    }
   ],
   "source": [
    "df_parquet.head()"
   ]
  }
 ],
 "metadata": {
  "kernelspec": {
   "display_name": "Python 3 (ipykernel)",
   "language": "python",
   "name": "python3"
  },
  "language_info": {
   "codemirror_mode": {
    "name": "ipython",
    "version": 3
   },
   "file_extension": ".py",
   "mimetype": "text/x-python",
   "name": "python",
   "nbconvert_exporter": "python",
   "pygments_lexer": "ipython3",
   "version": "3.11.8"
  },
  "widgets": {
   "application/vnd.jupyter.widget-state+json": {
    "state": {},
    "version_major": 2,
    "version_minor": 0
   }
  }
 },
 "nbformat": 4,
 "nbformat_minor": 5
}
